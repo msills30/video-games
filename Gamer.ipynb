{
 "cells": [
  {
   "cell_type": "code",
   "execution_count": 68,
   "metadata": {},
   "outputs": [],
   "source": [
    "# Dependencies\n",
    "import pandas as pd\n",
    "import matplotlib.pyplot as plt\n",
    "import scipy.stats as st\n",
    "from pathlib import Path\n",
    "import seaborn as sns"
   ]
  },
  {
   "cell_type": "code",
   "execution_count": 12,
   "metadata": {},
   "outputs": [
    {
     "data": {
      "text/html": [
       "<div>\n",
       "<style scoped>\n",
       "    .dataframe tbody tr th:only-of-type {\n",
       "        vertical-align: middle;\n",
       "    }\n",
       "\n",
       "    .dataframe tbody tr th {\n",
       "        vertical-align: top;\n",
       "    }\n",
       "\n",
       "    .dataframe thead th {\n",
       "        text-align: right;\n",
       "    }\n",
       "</style>\n",
       "<table border=\"1\" class=\"dataframe\">\n",
       "  <thead>\n",
       "    <tr style=\"text-align: right;\">\n",
       "      <th></th>\n",
       "      <th>Name</th>\n",
       "      <th>Platform</th>\n",
       "      <th>Year_of_Release</th>\n",
       "      <th>Genre</th>\n",
       "      <th>Publisher</th>\n",
       "      <th>NA_Sales</th>\n",
       "      <th>EU_Sales</th>\n",
       "      <th>JP_Sales</th>\n",
       "      <th>Other_Sales</th>\n",
       "      <th>Global_Sales</th>\n",
       "      <th>Critic_Score</th>\n",
       "      <th>Critic_Count</th>\n",
       "      <th>User_Score</th>\n",
       "      <th>User_Count</th>\n",
       "      <th>Developer</th>\n",
       "      <th>Rating</th>\n",
       "    </tr>\n",
       "  </thead>\n",
       "  <tbody>\n",
       "    <tr>\n",
       "      <th>0</th>\n",
       "      <td>Wii Sports</td>\n",
       "      <td>Wii</td>\n",
       "      <td>2006</td>\n",
       "      <td>Sports</td>\n",
       "      <td>Nintendo</td>\n",
       "      <td>41.36</td>\n",
       "      <td>28.96</td>\n",
       "      <td>3.77</td>\n",
       "      <td>8.45</td>\n",
       "      <td>82.53</td>\n",
       "      <td>76.0</td>\n",
       "      <td>51.0</td>\n",
       "      <td>8</td>\n",
       "      <td>322.0</td>\n",
       "      <td>Nintendo</td>\n",
       "      <td>E</td>\n",
       "    </tr>\n",
       "    <tr>\n",
       "      <th>1</th>\n",
       "      <td>Mario Kart Wii</td>\n",
       "      <td>Wii</td>\n",
       "      <td>2008</td>\n",
       "      <td>Racing</td>\n",
       "      <td>Nintendo</td>\n",
       "      <td>15.68</td>\n",
       "      <td>12.76</td>\n",
       "      <td>3.79</td>\n",
       "      <td>3.29</td>\n",
       "      <td>35.52</td>\n",
       "      <td>82.0</td>\n",
       "      <td>73.0</td>\n",
       "      <td>8.3</td>\n",
       "      <td>709.0</td>\n",
       "      <td>Nintendo</td>\n",
       "      <td>E</td>\n",
       "    </tr>\n",
       "    <tr>\n",
       "      <th>2</th>\n",
       "      <td>Wii Sports Resort</td>\n",
       "      <td>Wii</td>\n",
       "      <td>2009</td>\n",
       "      <td>Sports</td>\n",
       "      <td>Nintendo</td>\n",
       "      <td>15.61</td>\n",
       "      <td>10.93</td>\n",
       "      <td>3.28</td>\n",
       "      <td>2.95</td>\n",
       "      <td>32.77</td>\n",
       "      <td>80.0</td>\n",
       "      <td>73.0</td>\n",
       "      <td>8</td>\n",
       "      <td>192.0</td>\n",
       "      <td>Nintendo</td>\n",
       "      <td>E</td>\n",
       "    </tr>\n",
       "    <tr>\n",
       "      <th>3</th>\n",
       "      <td>Kinect Adventures!</td>\n",
       "      <td>X360</td>\n",
       "      <td>2010</td>\n",
       "      <td>Misc</td>\n",
       "      <td>Microsoft Game Studios</td>\n",
       "      <td>15.00</td>\n",
       "      <td>4.89</td>\n",
       "      <td>0.24</td>\n",
       "      <td>1.69</td>\n",
       "      <td>21.81</td>\n",
       "      <td>61.0</td>\n",
       "      <td>45.0</td>\n",
       "      <td>6.3</td>\n",
       "      <td>106.0</td>\n",
       "      <td>Good Science Studio</td>\n",
       "      <td>E</td>\n",
       "    </tr>\n",
       "    <tr>\n",
       "      <th>4</th>\n",
       "      <td>New Super Mario Bros. Wii</td>\n",
       "      <td>Wii</td>\n",
       "      <td>2009</td>\n",
       "      <td>Platform</td>\n",
       "      <td>Nintendo</td>\n",
       "      <td>14.44</td>\n",
       "      <td>6.94</td>\n",
       "      <td>4.70</td>\n",
       "      <td>2.24</td>\n",
       "      <td>28.32</td>\n",
       "      <td>87.0</td>\n",
       "      <td>80.0</td>\n",
       "      <td>8.4</td>\n",
       "      <td>594.0</td>\n",
       "      <td>Nintendo</td>\n",
       "      <td>E</td>\n",
       "    </tr>\n",
       "  </tbody>\n",
       "</table>\n",
       "</div>"
      ],
      "text/plain": [
       "                        Name Platform  Year_of_Release     Genre  \\\n",
       "0                 Wii Sports      Wii             2006    Sports   \n",
       "1             Mario Kart Wii      Wii             2008    Racing   \n",
       "2          Wii Sports Resort      Wii             2009    Sports   \n",
       "3         Kinect Adventures!     X360             2010      Misc   \n",
       "4  New Super Mario Bros. Wii      Wii             2009  Platform   \n",
       "\n",
       "                Publisher  NA_Sales  EU_Sales  JP_Sales  Other_Sales  \\\n",
       "0                Nintendo     41.36     28.96      3.77         8.45   \n",
       "1                Nintendo     15.68     12.76      3.79         3.29   \n",
       "2                Nintendo     15.61     10.93      3.28         2.95   \n",
       "3  Microsoft Game Studios     15.00      4.89      0.24         1.69   \n",
       "4                Nintendo     14.44      6.94      4.70         2.24   \n",
       "\n",
       "   Global_Sales  Critic_Score  Critic_Count User_Score  User_Count  \\\n",
       "0         82.53          76.0          51.0          8       322.0   \n",
       "1         35.52          82.0          73.0        8.3       709.0   \n",
       "2         32.77          80.0          73.0          8       192.0   \n",
       "3         21.81          61.0          45.0        6.3       106.0   \n",
       "4         28.32          87.0          80.0        8.4       594.0   \n",
       "\n",
       "             Developer Rating  \n",
       "0             Nintendo      E  \n",
       "1             Nintendo      E  \n",
       "2             Nintendo      E  \n",
       "3  Good Science Studio      E  \n",
       "4             Nintendo      E  "
      ]
     },
     "execution_count": 12,
     "metadata": {},
     "output_type": "execute_result"
    }
   ],
   "source": [
    "data=pd.read_csv('C:/Users/m8rqu/Documents/Data BootCamp/Video Games Data/Video Game and Crime Data.csv')\n",
    "data.head()"
   ]
  },
  {
   "cell_type": "code",
   "execution_count": 13,
   "metadata": {},
   "outputs": [
    {
     "data": {
      "text/plain": [
       "PS2     1456\n",
       "DS      1255\n",
       "X360    1030\n",
       "Wii      977\n",
       "PS3      935\n",
       "PC       758\n",
       "XB       714\n",
       "PSP      536\n",
       "GBA      514\n",
       "GC       457\n",
       "PS4      255\n",
       "3DS      223\n",
       "PS       204\n",
       "XOne     186\n",
       "PSV      150\n",
       "WiiU     105\n",
       "DC        14\n",
       "Name: Platform, dtype: int64"
      ]
     },
     "execution_count": 13,
     "metadata": {},
     "output_type": "execute_result"
    }
   ],
   "source": [
    "data['Platform'].value_counts()"
   ]
  },
  {
   "cell_type": "code",
   "execution_count": 65,
   "metadata": {},
   "outputs": [
    {
     "data": {
      "text/plain": [
       "Genre\n",
       "Action          66.670114\n",
       "Adventure       64.950331\n",
       "Fighting        69.190594\n",
       "Misc            66.680473\n",
       "Platform        68.124490\n",
       "Puzzle          67.224771\n",
       "Racing          67.940111\n",
       "Role-Playing    72.651099\n",
       "Shooter         70.268770\n",
       "Simulation      68.577259\n",
       "Sports          72.064236\n",
       "Strategy        72.333333\n",
       "Name: Critic_Score, dtype: float64"
      ]
     },
     "execution_count": 65,
     "metadata": {},
     "output_type": "execute_result"
    }
   ],
   "source": [
    "gamers_genre = data.groupby(['Genre'])['Critic_Score']\n",
    "gamers_genre.mean()"
   ]
  },
  {
   "cell_type": "code",
   "execution_count": 69,
   "metadata": {},
   "outputs": [
    {
     "data": {
      "image/png": "[encoded data removed]",
      "text/plain": [
       "<Figure size 640x480 with 1 Axes>"
      ]
     },
     "metadata": {},
     "output_type": "display_data"
    }
   ],
   "source": [
    "grouped = data.groupby('Genre')['Critic_Score']\n",
    "\n",
    "# Create a box plot\n",
    "sns.boxplot(data=data, x='Critic_Score', y='Genre')\n",
    "\n",
    "# Customize the plot\n",
    "plt.xlabel('Critic Score')\n",
    "plt.title('Box Plot of Critic Scores by Genre')\n",
    "\n",
    "# Show the plot\n",
    "plt.show()"
   ]
  },
  {
   "cell_type": "code",
   "execution_count": 86,
   "metadata": {},
   "outputs": [],
   "source": [
    "game_developer_score =  data.groupby(['Developer'])['Critic_Score'].mean()\n",
    "\n",
    "game_developer_sales = data.groupby(['Developer'])['Global_Sales'].sum()\n"
   ]
  },
  {
   "cell_type": "code",
   "execution_count": 89,
   "metadata": {},
   "outputs": [
    {
     "name": "stdout",
     "output_type": "stream",
     "text": [
      "Developer\n",
      "Irrational Games, 2K Marin              96.000000\n",
      "Kojima Productions, Moby Dick Studio    94.000000\n",
      "Digital Extremes, 2K Marin              94.000000\n",
      "Bungie Software                         93.666667\n",
      "DMA Design, Rockstar North              93.000000\n",
      "Rockstar North                          92.857143\n",
      "ThatGameCompany                         92.000000\n",
      "Irrational Games                        91.500000\n",
      "Valve Software                          91.384615\n",
      "Headgate                                91.000000\n",
      "Name: Critic_Score, dtype: float64\n"
     ]
    }
   ],
   "source": [
    "# Sort the result in descending order and select the top ten\n",
    "top_ten_developers = game_developer_score.sort_values(ascending=False).head(10)\n",
    "\n",
    "# Print the top ten developers\n",
    "print(top_ten_developers)"
   ]
  },
  {
   "cell_type": "code",
   "execution_count": 95,
   "metadata": {},
   "outputs": [
    {
     "data": {
      "text/plain": [
       "Developer\n",
       "Rockstar North                          119.47\n",
       "Valve Software                           19.14\n",
       "Bungie Software                          15.61\n",
       "Kojima Productions, Moby Dick Studio      4.98\n",
       "Irrational Games                          4.31\n",
       "Irrational Games, 2K Marin                3.24\n",
       "Digital Extremes, 2K Marin                1.42\n",
       "ThatGameCompany                           0.21\n",
       "DMA Design, Rockstar North                0.01\n",
       "Headgate                                  0.01\n",
       "Name: Global_Sales, dtype: float64"
      ]
     },
     "execution_count": 95,
     "metadata": {},
     "output_type": "execute_result"
    }
   ],
   "source": [
    "# Filter the data for the top ten developers\n",
    "top_developers_sales = data[data['Developer'].isin(top_ten_developers.index)]\n",
    "\n",
    "# Group the filtered data by 'Developer' and calculate the total 'Global_Sales'\n",
    "developer_sales = top_developers_sales.groupby('Developer')['Global_Sales'].sum()\n",
    "developer_sales.sort_values(ascending=False)"
   ]
  },
  {
   "cell_type": "code",
   "execution_count": 40,
   "metadata": {},
   "outputs": [
    {
     "data": {
      "text/plain": [
       "Platform\n",
       "3DS     78.0\n",
       "DS      84.0\n",
       "GBA     77.0\n",
       "GC      87.0\n",
       "Wii     80.0\n",
       "WiiU    82.5\n",
       "Name: Critic_Score, dtype: float64"
      ]
     },
     "execution_count": 40,
     "metadata": {},
     "output_type": "execute_result"
    }
   ],
   "source": [
    "nintendo_platform = data[data['Developer'] == 'Nintendo'].groupby(['Platform'])['Critic_Score'].median()\n",
    "nintendo_platform"
   ]
  },
  {
   "cell_type": "code",
   "execution_count": 42,
   "metadata": {},
   "outputs": [
    {
     "data": {
      "text/plain": [
       "Platform\n",
       "3DS      131.98\n",
       "DC         4.55\n",
       "DS       559.25\n",
       "GBA      188.79\n",
       "GC       171.56\n",
       "PC       204.47\n",
       "PS       234.41\n",
       "PS2     1044.11\n",
       "PS3      837.19\n",
       "PS4      245.99\n",
       "PSP      212.29\n",
       "PSV       34.69\n",
       "Wii      795.28\n",
       "WiiU      67.57\n",
       "X360     900.46\n",
       "XB       228.25\n",
       "XOne     134.20\n",
       "Name: Global_Sales, dtype: float64"
      ]
     },
     "execution_count": 42,
     "metadata": {},
     "output_type": "execute_result"
    }
   ],
   "source": [
    "nintendo_platform_sales = data.groupby(['Platform'])['Global_Sales'].sum()\n",
    "nintendo_platform_sales"
   ]
  },
  {
   "cell_type": "code",
   "execution_count": null,
   "metadata": {},
   "outputs": [],
   "source": []
  }
 ],
 "metadata": {
  "kernelspec": {
   "display_name": "base",
   "language": "python",
   "name": "python3"
  },
  "language_info": {
   "codemirror_mode": {
    "name": "ipython",
    "version": 3
   },
   "file_extension": ".py",
   "mimetype": "text/x-python",
   "name": "python",
   "nbconvert_exporter": "python",
   "pygments_lexer": "ipython3",
   "version": "3.9.13"
  }
 },
 "nbformat": 4,
 "nbformat_minor": 2
}
